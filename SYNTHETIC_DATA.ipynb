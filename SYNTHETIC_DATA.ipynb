{
  "nbformat": 4,
  "nbformat_minor": 0,
  "metadata": {
    "colab": {
      "provenance": [],
      "authorship_tag": "ABX9TyNMv7FhTYoAXfocw8ABqj9I",
      "include_colab_link": true
    },
    "kernelspec": {
      "name": "python3",
      "display_name": "Python 3"
    },
    "language_info": {
      "name": "python"
    }
  },
  "cells": [
    {
      "cell_type": "markdown",
      "metadata": {
        "id": "view-in-github",
        "colab_type": "text"
      },
      "source": [
        "<a href=\"https://colab.research.google.com/github/abishekraja018/SDC-GENAI/blob/main/SYNTHETIC_DATA.ipynb\" target=\"_parent\"><img src=\"https://colab.research.google.com/assets/colab-badge.svg\" alt=\"Open In Colab\"/></a>"
      ]
    },
    {
      "cell_type": "code",
      "execution_count": 1,
      "metadata": {
        "colab": {
          "base_uri": "https://localhost:8080/"
        },
        "id": "mfwCkmQskikz",
        "outputId": "cd3ae25d-48de-446a-e255-046a2d05984f"
      },
      "outputs": [
        {
          "output_type": "stream",
          "name": "stdout",
          "text": [
            "   SquareFeet  Bedrooms  HouseAge  PriceCategory\n",
            "0        1660         3         4              1\n",
            "1        2094         1        46              0\n",
            "2        1930         2        24              0\n",
            "3        1895         5         1              1\n",
            "4        2438         2         9              1\n"
          ]
        },
        {
          "output_type": "stream",
          "name": "stderr",
          "text": [
            "/usr/local/lib/python3.11/dist-packages/sklearn/linear_model/_logistic.py:1247: FutureWarning: 'multi_class' was deprecated in version 1.5 and will be removed in 1.7. From then on, it will always use 'multinomial'. Leave it to its default value to avoid this warning.\n",
            "  warnings.warn(\n",
            "/usr/local/lib/python3.11/dist-packages/sklearn/linear_model/_logistic.py:465: ConvergenceWarning: lbfgs failed to converge (status=1):\n",
            "STOP: TOTAL NO. of ITERATIONS REACHED LIMIT.\n",
            "\n",
            "Increase the number of iterations (max_iter) or scale the data as shown in:\n",
            "    https://scikit-learn.org/stable/modules/preprocessing.html\n",
            "Please also refer to the documentation for alternative solver options:\n",
            "    https://scikit-learn.org/stable/modules/linear_model.html#logistic-regression\n",
            "  n_iter_i = _check_optimize_result(\n"
          ]
        },
        {
          "output_type": "stream",
          "name": "stdout",
          "text": [
            "\n",
            "✅ Classification Report:\n",
            "\n",
            "              precision    recall  f1-score   support\n",
            "\n",
            "           0       1.00      0.97      0.98        30\n",
            "           1       0.73      1.00      0.85        22\n",
            "           2       1.00      0.12      0.22         8\n",
            "\n",
            "    accuracy                           0.87        60\n",
            "   macro avg       0.91      0.70      0.68        60\n",
            "weighted avg       0.90      0.87      0.83        60\n",
            "\n",
            "✅ Accuracy: 0.87\n",
            "\n",
            "🏡 Predict house price category:\n",
            "Enter square feet: 100\n",
            "Enter number of bedrooms: 1\n",
            "Enter house age: 1\n",
            "\n",
            "💰 Predicted Price Category: Low (< $300K)\n"
          ]
        },
        {
          "output_type": "stream",
          "name": "stderr",
          "text": [
            "/usr/local/lib/python3.11/dist-packages/sklearn/utils/validation.py:2739: UserWarning: X does not have valid feature names, but LogisticRegression was fitted with feature names\n",
            "  warnings.warn(\n"
          ]
        }
      ],
      "source": [
        "# ✅ Step 1: Import libraries\n",
        "import numpy as np\n",
        "import pandas as pd\n",
        "from sklearn.linear_model import LogisticRegression\n",
        "from sklearn.model_selection import train_test_split\n",
        "from sklearn.metrics import classification_report, accuracy_score\n",
        "\n",
        "# ✅ Step 2: Generate synthetic data\n",
        "np.random.seed(42)\n",
        "num_samples = 300\n",
        "\n",
        "square_feet = np.random.randint(800, 3000, size=num_samples)\n",
        "bedrooms = np.random.randint(1, 6, size=num_samples)\n",
        "house_age = np.random.randint(0, 50, size=num_samples)\n",
        "\n",
        "# ✅ Define price category (target variable)\n",
        "price_category = []\n",
        "\n",
        "for sqft, beds, age in zip(square_feet, bedrooms, house_age):\n",
        "    score = sqft * 0.3 + beds * 50 - age * 5\n",
        "    if score < 600:\n",
        "        price_category.append(0)  # Low\n",
        "    elif score < 900:\n",
        "        price_category.append(1)  # Medium\n",
        "    else:\n",
        "        price_category.append(2)  # High\n",
        "\n",
        "# ✅ Step 3: Create DataFrame\n",
        "df = pd.DataFrame({\n",
        "    \"SquareFeet\": square_feet,\n",
        "    \"Bedrooms\": bedrooms,\n",
        "    \"HouseAge\": house_age,\n",
        "    \"PriceCategory\": price_category\n",
        "})\n",
        "\n",
        "print(df.head())\n",
        "\n",
        "# ✅ Step 4: Prepare data\n",
        "X = df[[\"SquareFeet\", \"Bedrooms\", \"HouseAge\"]]\n",
        "y = df[\"PriceCategory\"]\n",
        "\n",
        "# ✅ Step 5: Train/test split\n",
        "X_train, X_test, y_train, y_test = train_test_split(X, y, test_size=0.2, random_state=1)\n",
        "\n",
        "# ✅ Step 6: Train logistic regression\n",
        "model = LogisticRegression(multi_class='multinomial', solver='lbfgs', max_iter=300)\n",
        "model.fit(X_train, y_train)\n",
        "\n",
        "# ✅ Step 7: Evaluate model\n",
        "y_pred = model.predict(X_test)\n",
        "print(\"\\n✅ Classification Report:\\n\")\n",
        "print(classification_report(y_test, y_pred))\n",
        "print(f\"✅ Accuracy: {accuracy_score(y_test, y_pred):.2f}\")\n",
        "\n",
        "# ✅ Step 8: User input prediction\n",
        "print(\"\\n🏡 Predict house price category:\")\n",
        "user_sqft = float(input(\"Enter square feet: \"))\n",
        "user_beds = int(input(\"Enter number of bedrooms: \"))\n",
        "user_age = int(input(\"Enter house age: \"))\n",
        "\n",
        "user_input = np.array([[user_sqft, user_beds, user_age]])\n",
        "pred_class = model.predict(user_input)[0]\n",
        "\n",
        "labels = {0: \"Low (< $300K)\", 1: \"Medium ($300K–$400K)\", 2: \"High (> $400K)\"}\n",
        "print(f\"\\n💰 Predicted Price Category: {labels[pred_class]}\")"
      ]
    }
  ]
}