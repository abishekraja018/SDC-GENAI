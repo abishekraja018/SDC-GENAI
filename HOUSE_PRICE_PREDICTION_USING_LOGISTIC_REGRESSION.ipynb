{
  "nbformat": 4,
  "nbformat_minor": 0,
  "metadata": {
    "colab": {
      "provenance": [],
      "authorship_tag": "ABX9TyPTCz9CmhRVsxVPiHCRxsUb",
      "include_colab_link": true
    },
    "kernelspec": {
      "name": "python3",
      "display_name": "Python 3"
    },
    "language_info": {
      "name": "python"
    }
  },
  "cells": [
    {
      "cell_type": "markdown",
      "metadata": {
        "id": "view-in-github",
        "colab_type": "text"
      },
      "source": [
        "<a href=\"https://colab.research.google.com/github/abishekraja018/SDC-GENAI/blob/main/HOUSE_PRICE_PREDICTION_USING_LOGISTIC_REGRESSION.ipynb\" target=\"_parent\"><img src=\"https://colab.research.google.com/assets/colab-badge.svg\" alt=\"Open In Colab\"/></a>"
      ]
    },
    {
      "cell_type": "code",
      "execution_count": 1,
      "metadata": {
        "colab": {
          "base_uri": "https://localhost:8080/"
        },
        "id": "eHRt7IaAkEjM",
        "outputId": "4e7a8ac7-03b3-4a1d-bd45-33f76e85dbce"
      },
      "outputs": [
        {
          "output_type": "stream",
          "name": "stderr",
          "text": [
            "/usr/local/lib/python3.11/dist-packages/sklearn/linear_model/_logistic.py:1247: FutureWarning: 'multi_class' was deprecated in version 1.5 and will be removed in 1.7. From then on, it will always use 'multinomial'. Leave it to its default value to avoid this warning.\n",
            "  warnings.warn(\n",
            "/usr/local/lib/python3.11/dist-packages/sklearn/linear_model/_logistic.py:465: ConvergenceWarning: lbfgs failed to converge (status=1):\n",
            "STOP: TOTAL NO. of ITERATIONS REACHED LIMIT.\n",
            "\n",
            "Increase the number of iterations (max_iter) or scale the data as shown in:\n",
            "    https://scikit-learn.org/stable/modules/preprocessing.html\n",
            "Please also refer to the documentation for alternative solver options:\n",
            "    https://scikit-learn.org/stable/modules/linear_model.html#logistic-regression\n",
            "  n_iter_i = _check_optimize_result(\n"
          ]
        },
        {
          "output_type": "stream",
          "name": "stdout",
          "text": [
            "✅ Accuracy: 0.50\n",
            "\n",
            "🏡 Enter details to classify house price range:\n",
            "Enter area in square feet: 1000\n",
            "Enter number of bedrooms: 3\n",
            "Enter age of the house (in years): 2\n",
            "\n",
            "💰 Predicted Price Category: Medium ($300K–$400K)\n"
          ]
        }
      ],
      "source": [
        "# ✅ Step 1: Import libraries\n",
        "import numpy as np\n",
        "from sklearn.linear_model import LogisticRegression\n",
        "from sklearn.model_selection import train_test_split\n",
        "from sklearn.metrics import accuracy_score\n",
        "\n",
        "# ✅ Step 2: Sample dataset (features)\n",
        "# Format: [Square Feet, Bedrooms, Age]\n",
        "X = np.array([\n",
        "    [1000, 2, 10],\n",
        "    [1500, 3, 5],\n",
        "    [1200, 2, 20],\n",
        "    [1800, 4, 2],\n",
        "    [2200, 4, 15],\n",
        "    [1700, 3, 8],\n",
        "    [2500, 5, 4],\n",
        "    [1300, 3, 30],\n",
        "    [1600, 3, 10],\n",
        "    [1900, 4, 6],\n",
        "])\n",
        "\n",
        "# ✅ Step 3: Labels (classification)\n",
        "# 0 = Low (< $300k), 1 = Medium ($300k–400k), 2 = High (> $400k)\n",
        "y = np.array([0, 1, 0, 1, 2, 1, 2, 0, 1, 2])\n",
        "\n",
        "# ✅ Step 4: Train/test split\n",
        "X_train, X_test, y_train, y_test = train_test_split(X, y, test_size=0.2, random_state=42)\n",
        "\n",
        "# ✅ Step 5: Train the Logistic Regression model\n",
        "model = LogisticRegression(multi_class='multinomial', solver='lbfgs', max_iter=200)\n",
        "model.fit(X_train, y_train)\n",
        "\n",
        "# ✅ Step 6: Predict and evaluate\n",
        "y_pred = model.predict(X_test)\n",
        "acc = accuracy_score(y_test, y_pred)\n",
        "print(f\"✅ Accuracy: {acc:.2f}\")\n",
        "\n",
        "# ✅ Step 7: Predict using user input\n",
        "print(\"\\n🏡 Enter details to classify house price range:\")\n",
        "sqft = float(input(\"Enter area in square feet: \"))\n",
        "bedrooms = int(input(\"Enter number of bedrooms: \"))\n",
        "age = int(input(\"Enter age of the house (in years): \"))\n",
        "\n",
        "user_input = np.array([[sqft, bedrooms, age]])\n",
        "predicted_class = model.predict(user_input)[0]\n",
        "\n",
        "# ✅ Step 8: Interpret prediction\n",
        "labels = {0: \"Low (< $300K)\", 1: \"Medium ($300K–$400K)\", 2: \"High (> $400K)\"}\n",
        "print(f\"\\n💰 Predicted Price Category: {labels[predicted_class]}\")"
      ]
    }
  ]
}