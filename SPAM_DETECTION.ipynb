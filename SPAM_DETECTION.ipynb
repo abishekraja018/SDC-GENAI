{
  "nbformat": 4,
  "nbformat_minor": 0,
  "metadata": {
    "colab": {
      "provenance": [],
      "authorship_tag": "ABX9TyOcy5VFMHqr1Tm3S0emKjQP",
      "include_colab_link": true
    },
    "kernelspec": {
      "name": "python3",
      "display_name": "Python 3"
    },
    "language_info": {
      "name": "python"
    }
  },
  "cells": [
    {
      "cell_type": "markdown",
      "metadata": {
        "id": "view-in-github",
        "colab_type": "text"
      },
      "source": [
        "<a href=\"https://colab.research.google.com/github/abishekraja018/SDC-GENAI/blob/main/SPAM_DETECTION.ipynb\" target=\"_parent\"><img src=\"https://colab.research.google.com/assets/colab-badge.svg\" alt=\"Open In Colab\"/></a>"
      ]
    },
    {
      "cell_type": "code",
      "execution_count": 1,
      "metadata": {
        "colab": {
          "base_uri": "https://localhost:8080/"
        },
        "id": "m_z40Ws_pHvH",
        "outputId": "87f60b14-03c6-488a-af4c-25d22b6015ef"
      },
      "outputs": [
        {
          "output_type": "stream",
          "name": "stdout",
          "text": [
            "Accuracy: 0.67\n",
            "\n",
            "Classification Report:\n",
            "\n",
            "              precision    recall  f1-score   support\n",
            "\n",
            "           0       0.50      1.00      0.67         1\n",
            "           1       1.00      0.50      0.67         2\n",
            "\n",
            "    accuracy                           0.67         3\n",
            "   macro avg       0.75      0.75      0.67         3\n",
            "weighted avg       0.83      0.67      0.67         3\n",
            "\n",
            "\n",
            "Example prediction:\n",
            "Message: Get a free gift card now!\n",
            "Prediction: Spam\n"
          ]
        }
      ],
      "source": [
        "# ✅ Step 1: Install necessary libraries\n",
        "!pip install scikit-learn pandas numpy --quiet\n",
        "\n",
        "# ✅ Step 2: Import required libraries\n",
        "import pandas as pd\n",
        "import numpy as np\n",
        "from sklearn.feature_extraction.text import TfidfVectorizer\n",
        "from sklearn.model_selection import train_test_split\n",
        "from sklearn.linear_model import LogisticRegression\n",
        "from sklearn.metrics import accuracy_score, classification_report\n",
        "\n",
        "# ✅ Step 3: Generate synthetic spam message dataset\n",
        "data = {\n",
        "    'message': [\n",
        "        \"Free money!!!\", \"Hello, how are you?\", \"Win a free iPhone now\",\n",
        "        \"Let's meet for coffee\", \"Congratulations, you've won a lottery\",\n",
        "        \"Important work meeting tomorrow\", \"Claim your free prize now\",\n",
        "        \"Let's catch up soon\", \"Final warning: your account has been hacked\",\n",
        "        \"Hello, I miss you\", \"This is not a spam message\", \"Limited offer, buy now\"\n",
        "    ],\n",
        "    'label': [1, 0, 1, 0, 1, 0, 1, 0, 1, 0, 1, 0]  # 1 = Spam, 0 = Not Spam\n",
        "}\n",
        "\n",
        "df = pd.DataFrame(data)\n",
        "\n",
        "# ✅ Step 4: Preprocessing the data\n",
        "X = df['message']  # Feature: Text messages\n",
        "y = df['label']    # Target: Spam (1) or Not Spam (0)\n",
        "\n",
        "# ✅ Step 5: Convert text data to numerical form using TF-IDF vectorization\n",
        "vectorizer = TfidfVectorizer(stop_words='english')\n",
        "X_tfidf = vectorizer.fit_transform(X)\n",
        "\n",
        "# ✅ Step 6: Train-test split (80-20 split)\n",
        "X_train, X_test, y_train, y_test = train_test_split(X_tfidf, y, test_size=0.2, random_state=42)\n",
        "\n",
        "# ✅ Step 7: Train the logistic regression model\n",
        "model = LogisticRegression()\n",
        "model.fit(X_train, y_train)\n",
        "\n",
        "# ✅ Step 8: Predictions\n",
        "y_pred = model.predict(X_test)\n",
        "\n",
        "# ✅ Step 9: Evaluate model performance\n",
        "print(f\"Accuracy: {accuracy_score(y_test, y_pred):.2f}\")\n",
        "print(\"\\nClassification Report:\\n\")\n",
        "print(classification_report(y_test, y_pred))\n",
        "\n",
        "# ✅ Step 10: Make predictions on new messages\n",
        "def predict_spam(message):\n",
        "    message_tfidf = vectorizer.transform([message])\n",
        "    prediction = model.predict(message_tfidf)\n",
        "    return \"Spam\" if prediction == 1 else \"Not Spam\"\n",
        "\n",
        "# Example usage\n",
        "print(\"\\nExample prediction:\")\n",
        "new_message = \"Get a free gift card now!\"\n",
        "print(f\"Message: {new_message}\")\n",
        "print(f\"Prediction: {predict_spam(new_message)}\")"
      ]
    }
  ]
}