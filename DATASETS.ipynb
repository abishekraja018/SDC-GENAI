{
  "nbformat": 4,
  "nbformat_minor": 0,
  "metadata": {
    "colab": {
      "provenance": [],
      "authorship_tag": "ABX9TyMuqSN3FHAUuuzxQUrFgp7M",
      "include_colab_link": true
    },
    "kernelspec": {
      "name": "python3",
      "display_name": "Python 3"
    },
    "language_info": {
      "name": "python"
    }
  },
  "cells": [
    {
      "cell_type": "markdown",
      "metadata": {
        "id": "view-in-github",
        "colab_type": "text"
      },
      "source": [
        "<a href=\"https://colab.research.google.com/github/abishekraja018/SDC-GENAI/blob/main/DATASETS.ipynb\" target=\"_parent\"><img src=\"https://colab.research.google.com/assets/colab-badge.svg\" alt=\"Open In Colab\"/></a>"
      ]
    },
    {
      "cell_type": "code",
      "execution_count": 1,
      "metadata": {
        "colab": {
          "base_uri": "https://localhost:8080/"
        },
        "id": "t4RaHK3_lYqQ",
        "outputId": "fb9ac867-4d40-487b-9e63-123faf988273"
      },
      "outputs": [
        {
          "output_type": "stream",
          "name": "stderr",
          "text": [
            "/usr/local/lib/python3.11/dist-packages/sklearn/linear_model/_logistic.py:1247: FutureWarning: 'multi_class' was deprecated in version 1.5 and will be removed in 1.7. From then on, it will always use 'multinomial'. Leave it to its default value to avoid this warning.\n",
            "  warnings.warn(\n"
          ]
        },
        {
          "output_type": "stream",
          "name": "stdout",
          "text": [
            "\n",
            "✅ Classification Report:\n",
            "\n",
            "              precision    recall  f1-score   support\n",
            "\n",
            "           0       0.70      0.72      0.71      1516\n",
            "           1       0.62      0.72      0.67      1861\n",
            "           2       0.78      0.43      0.55       751\n",
            "\n",
            "    accuracy                           0.67      4128\n",
            "   macro avg       0.70      0.62      0.64      4128\n",
            "weighted avg       0.68      0.67      0.66      4128\n",
            "\n",
            "✅ Accuracy: 0.67\n",
            "\n",
            "🏡 Predict house price category based on your inputs:\n",
            "Enter median income (e.g., 4.5): 4\n",
            "Enter average rooms (e.g., 5.0): 5\n",
            "Enter average occupancy (e.g., 3.0): 3\n",
            "\n",
            "💰 Predicted Price Category: Medium ($150k–$300k)\n"
          ]
        },
        {
          "output_type": "stream",
          "name": "stderr",
          "text": [
            "/usr/local/lib/python3.11/dist-packages/sklearn/utils/validation.py:2739: UserWarning: X does not have valid feature names, but StandardScaler was fitted with feature names\n",
            "  warnings.warn(\n"
          ]
        }
      ],
      "source": [
        "# ✅ Step 1: Install required libraries\n",
        "!pip install scikit-learn pandas matplotlib seaborn --quiet\n",
        "\n",
        "# ✅ Step 2: Import libraries\n",
        "import pandas as pd\n",
        "import numpy as np\n",
        "from sklearn.datasets import fetch_california_housing\n",
        "from sklearn.linear_model import LogisticRegression\n",
        "from sklearn.model_selection import train_test_split\n",
        "from sklearn.preprocessing import StandardScaler\n",
        "from sklearn.metrics import classification_report, accuracy_score\n",
        "import seaborn as sns\n",
        "import matplotlib.pyplot as plt\n",
        "\n",
        "# ✅ Step 3: Load California Housing dataset\n",
        "data = fetch_california_housing()\n",
        "df = pd.DataFrame(data.data, columns=data.feature_names)\n",
        "df[\"Price\"] = data.target\n",
        "\n",
        "# ✅ Step 4: Convert continuous price into categories\n",
        "# 0 = Low (<1.5), 1 = Medium (1.5–3), 2 = High (>3)\n",
        "df[\"PriceCategory\"] = pd.cut(df[\"Price\"], bins=[0, 1.5, 3, df[\"Price\"].max()],\n",
        "                             labels=[0, 1, 2]).astype(int)\n",
        "\n",
        "# ✅ Step 5: Select features and labels\n",
        "features = [\"MedInc\", \"AveRooms\", \"AveOccup\"]\n",
        "X = df[features]\n",
        "y = df[\"PriceCategory\"]\n",
        "\n",
        "# ✅ Step 6: Split and scale data\n",
        "X_train, X_test, y_train, y_test = train_test_split(X, y, test_size=0.2, random_state=42)\n",
        "scaler = StandardScaler()\n",
        "X_train_scaled = scaler.fit_transform(X_train)\n",
        "X_test_scaled = scaler.transform(X_test)\n",
        "\n",
        "# ✅ Step 7: Train logistic regression model\n",
        "model = LogisticRegression(multi_class='multinomial', solver='lbfgs', max_iter=300)\n",
        "model.fit(X_train_scaled, y_train)\n",
        "\n",
        "# ✅ Step 8: Evaluate\n",
        "y_pred = model.predict(X_test_scaled)\n",
        "print(\"\\n✅ Classification Report:\\n\")\n",
        "print(classification_report(y_test, y_pred))\n",
        "print(f\"✅ Accuracy: {accuracy_score(y_test, y_pred):.2f}\")\n",
        "\n",
        "# ✅ Step 9: Predict with user input\n",
        "print(\"\\n🏡 Predict house price category based on your inputs:\")\n",
        "income = float(input(\"Enter median income (e.g., 4.5): \"))\n",
        "rooms = float(input(\"Enter average rooms (e.g., 5.0): \"))\n",
        "occupancy = float(input(\"Enter average occupancy (e.g., 3.0): \"))\n",
        "\n",
        "user_input = scaler.transform([[income, rooms, occupancy]])\n",
        "prediction = model.predict(user_input)[0]\n",
        "\n",
        "labels = {0: \"Low (< $150k)\", 1: \"Medium ($150k–$300k)\", 2: \"High (> $300k)\"}\n",
        "print(f\"\\n💰 Predicted Price Category: {labels[prediction]}\")"
      ]
    }
  ]
}