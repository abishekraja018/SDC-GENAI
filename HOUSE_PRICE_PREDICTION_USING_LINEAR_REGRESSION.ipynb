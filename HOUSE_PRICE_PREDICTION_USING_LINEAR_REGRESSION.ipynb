{
  "nbformat": 4,
  "nbformat_minor": 0,
  "metadata": {
    "colab": {
      "provenance": [],
      "authorship_tag": "ABX9TyNc9UoEQiQ9OLgsFXRVeX71",
      "include_colab_link": true
    },
    "kernelspec": {
      "name": "python3",
      "display_name": "Python 3"
    },
    "language_info": {
      "name": "python"
    }
  },
  "cells": [
    {
      "cell_type": "markdown",
      "metadata": {
        "id": "view-in-github",
        "colab_type": "text"
      },
      "source": [
        "<a href=\"https://colab.research.google.com/github/abishekraja018/SDC-GENAI/blob/main/HOUSE_PRICE_PREDICTION_USING_LINEAR_REGRESSION.ipynb\" target=\"_parent\"><img src=\"https://colab.research.google.com/assets/colab-badge.svg\" alt=\"Open In Colab\"/></a>"
      ]
    },
    {
      "cell_type": "code",
      "execution_count": 1,
      "metadata": {
        "colab": {
          "base_uri": "https://localhost:8080/"
        },
        "id": "Iiqs1yYwjhKI",
        "outputId": "59bd13bb-2c55-4d02-b1cd-1acb2a99325e"
      },
      "outputs": [
        {
          "output_type": "stream",
          "name": "stdout",
          "text": [
            "\n",
            "🏡 Enter details to predict house price:\n",
            "Enter area in square feet: 1000\n",
            "Enter number of bedrooms: 2\n",
            "Enter age of the house (in years): 10\n",
            "\n",
            "💰 Predicted House Price: $206,510.39\n"
          ]
        }
      ],
      "source": [
        "# ✅ Step 1: Import libraries\n",
        "import numpy as np\n",
        "from sklearn.linear_model import LinearRegression\n",
        "import matplotlib.pyplot as plt\n",
        "\n",
        "# ✅ Step 2: Sample dataset (synthetic training data)\n",
        "# Format: [Square Feet, Bedrooms, Age in Years]\n",
        "X = np.array([\n",
        "    [1000, 2, 10],\n",
        "    [1500, 3, 5],\n",
        "    [1200, 2, 20],\n",
        "    [1800, 4, 2],\n",
        "    [2200, 4, 15],\n",
        "    [1700, 3, 8],\n",
        "    [2500, 5, 4],\n",
        "    [1300, 3, 30],\n",
        "    [1600, 3, 10],\n",
        "    [1900, 4, 6]\n",
        "])\n",
        "\n",
        "# Prices in thousands (target variable)\n",
        "y = np.array([200, 300, 220, 380, 410, 330, 500, 250, 340, 390])  # in $1000s\n",
        "\n",
        "# ✅ Step 3: Train the model\n",
        "model = LinearRegression()\n",
        "model.fit(X, y)\n",
        "\n",
        "# ✅ Step 4: Take user input\n",
        "print(\"\\n🏡 Enter details to predict house price:\")\n",
        "sqft = float(input(\"Enter area in square feet: \"))\n",
        "bedrooms = int(input(\"Enter number of bedrooms: \"))\n",
        "age = int(input(\"Enter age of the house (in years): \"))\n",
        "\n",
        "user_input = np.array([[sqft, bedrooms, age]])\n",
        "\n",
        "# ✅ Step 5: Predict the price\n",
        "predicted_price = model.predict(user_input)[0]\n",
        "print(f\"\\n💰 Predicted House Price: ${predicted_price * 1000:,.2f}\")"
      ]
    }
  ]
}