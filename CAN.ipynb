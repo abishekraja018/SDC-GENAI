{
  "nbformat": 4,
  "nbformat_minor": 0,
  "metadata": {
    "colab": {
      "provenance": [],
      "authorship_tag": "ABX9TyPCgUXcmpDtIaSS4d3uqOgw",
      "include_colab_link": true
    },
    "kernelspec": {
      "name": "python3",
      "display_name": "Python 3"
    },
    "language_info": {
      "name": "python"
    }
  },
  "cells": [
    {
      "cell_type": "markdown",
      "metadata": {
        "id": "view-in-github",
        "colab_type": "text"
      },
      "source": [
        "<a href=\"https://colab.research.google.com/github/abishekraja018/SDC-GENAI/blob/main/CAN.ipynb\" target=\"_parent\"><img src=\"https://colab.research.google.com/assets/colab-badge.svg\" alt=\"Open In Colab\"/></a>"
      ]
    },
    {
      "cell_type": "code",
      "execution_count": 1,
      "metadata": {
        "colab": {
          "base_uri": "https://localhost:8080/"
        },
        "id": "9_gZXPLioo3A",
        "outputId": "9f46bb1e-6ed5-4b0e-aba8-b127ba98dd09"
      },
      "outputs": [
        {
          "output_type": "stream",
          "name": "stdout",
          "text": [
            "✅ Stored 'apple' at node 'NodeC' in zone (0, 50, 50, 100)\n",
            "✅ Stored 'banana' at node 'NodeB' in zone (50, 0, 100, 50)\n",
            "✅ Stored 'grapes' at node 'NodeB' in zone (50, 0, 100, 50)\n",
            "🔍 Found 'apple' at node 'NodeC' with value: A juicy fruit\n",
            "🔍 Found 'banana' at node 'NodeB' with value: Yellow and sweet\n",
            "❌ Key 'orange' not found in network.\n"
          ]
        }
      ],
      "source": [
        "import random\n",
        "import hashlib\n",
        "\n",
        "# Helper to hash keys into (x, y) coordinates\n",
        "def hash_key(key):\n",
        "    h = hashlib.sha1(key.encode()).hexdigest()\n",
        "    x = int(h[:10], 16) % 100\n",
        "    y = int(h[10:20], 16) % 100\n",
        "    return (x, y)\n",
        "\n",
        "# Node class representing a zone in CAN\n",
        "class CANNode:\n",
        "    def __init__(self, name, x1, y1, x2, y2):\n",
        "        self.name = name\n",
        "        self.zone = (x1, y1, x2, y2)  # (x1, y1) is bottom-left, (x2, y2) is top-right\n",
        "        self.data = {}  # Store key-value pairs\n",
        "\n",
        "    def owns(self, point):\n",
        "        x, y = point\n",
        "        x1, y1, x2, y2 = self.zone\n",
        "        return x1 <= x < x2 and y1 <= y < y2\n",
        "\n",
        "    def insert(self, key, value):\n",
        "        coords = hash_key(key)\n",
        "        if self.owns(coords):\n",
        "            self.data[key] = value\n",
        "            print(f\"✅ Stored '{key}' at node '{self.name}' in zone {self.zone}\")\n",
        "            return True\n",
        "        return False\n",
        "\n",
        "    def search(self, key):\n",
        "        if key in self.data:\n",
        "            print(f\"🔍 Found '{key}' at node '{self.name}' with value: {self.data[key]}\")\n",
        "            return self.data[key]\n",
        "        return None\n",
        "\n",
        "# Simulate CAN with multiple nodes\n",
        "class CANNetwork:\n",
        "    def __init__(self):\n",
        "        self.nodes = []\n",
        "\n",
        "    def add_node(self, node):\n",
        "        self.nodes.append(node)\n",
        "\n",
        "    def insert(self, key, value):\n",
        "        for node in self.nodes:\n",
        "            if node.insert(key, value):\n",
        "                return\n",
        "        print(f\"❌ Key '{key}' could not be placed in any node.\")\n",
        "\n",
        "    def search(self, key):\n",
        "        for node in self.nodes:\n",
        "            result = node.search(key)\n",
        "            if result is not None:\n",
        "                return result\n",
        "        print(f\"❌ Key '{key}' not found in network.\")\n",
        "        return None\n",
        "\n",
        "# ✅ Create a CAN network with zones\n",
        "network = CANNetwork()\n",
        "network.add_node(CANNode(\"NodeA\", 0, 0, 50, 50))\n",
        "network.add_node(CANNode(\"NodeB\", 50, 0, 100, 50))\n",
        "network.add_node(CANNode(\"NodeC\", 0, 50, 50, 100))\n",
        "network.add_node(CANNode(\"NodeD\", 50, 50, 100, 100))\n",
        "\n",
        "# ✅ Insert and search in CAN\n",
        "network.insert(\"apple\", \"A juicy fruit\")\n",
        "network.insert(\"banana\", \"Yellow and sweet\")\n",
        "network.insert(\"grapes\", \"Small and round\")\n",
        "\n",
        "network.search(\"apple\")\n",
        "network.search(\"banana\")\n",
        "network.search(\"orange\")"
      ]
    }
  ]
}