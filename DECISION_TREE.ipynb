{
  "nbformat": 4,
  "nbformat_minor": 0,
  "metadata": {
    "colab": {
      "provenance": [],
      "authorship_tag": "ABX9TyPDPB/8XxNnmBZ9XxrnrCnM",
      "include_colab_link": true
    },
    "kernelspec": {
      "name": "python3",
      "display_name": "Python 3"
    },
    "language_info": {
      "name": "python"
    }
  },
  "cells": [
    {
      "cell_type": "markdown",
      "metadata": {
        "id": "view-in-github",
        "colab_type": "text"
      },
      "source": [
        "<a href=\"https://colab.research.google.com/github/abishekraja018/SDC-GENAI/blob/main/DECISION_TREE.ipynb\" target=\"_parent\"><img src=\"https://colab.research.google.com/assets/colab-badge.svg\" alt=\"Open In Colab\"/></a>"
      ]
    },
    {
      "cell_type": "code",
      "execution_count": 1,
      "metadata": {
        "colab": {
          "base_uri": "https://localhost:8080/"
        },
        "id": "Fksz75LRpxAr",
        "outputId": "a16e74c4-83dd-4883-e8b4-87db9ea63491"
      },
      "outputs": [
        {
          "output_type": "stream",
          "name": "stdout",
          "text": [
            "Accuracy: 0.67\n",
            "\n",
            "Classification Report:\n",
            "\n",
            "              precision    recall  f1-score   support\n",
            "\n",
            "           0       0.50      1.00      0.67         1\n",
            "           1       1.00      0.50      0.67         2\n",
            "\n",
            "    accuracy                           0.67         3\n",
            "   macro avg       0.75      0.75      0.67         3\n",
            "weighted avg       0.83      0.67      0.67         3\n",
            "\n"
          ]
        }
      ],
      "source": [
        "# ✅ Step 1: Install necessary libraries\n",
        "!pip install scikit-learn pandas numpy --quiet\n",
        "\n",
        "# ✅ Step 2: Import required libraries\n",
        "import pandas as pd\n",
        "import numpy as np\n",
        "from sklearn.feature_extraction.text import TfidfVectorizer\n",
        "from sklearn.model_selection import train_test_split\n",
        "from sklearn.tree import DecisionTreeClassifier\n",
        "from sklearn.metrics import accuracy_score, classification_report\n",
        "\n",
        "# ✅ Step 3: Generate synthetic spam message dataset\n",
        "data = {\n",
        "    'message': [\n",
        "        \"Free money!!!\", \"Hello, how are you?\", \"Win a free iPhone now\",\n",
        "        \"Let's meet for coffee\", \"Congratulations, you've won a lottery\",\n",
        "        \"Important work meeting tomorrow\", \"Claim your free prize now\",\n",
        "        \"Let's catch up soon\", \"Final warning: your account has been hacked\",\n",
        "        \"Hello, I miss you\", \"This is not a spam message\", \"Limited offer, buy now\"\n",
        "    ],\n",
        "    'label': [1, 0, 1, 0, 1, 0, 1, 0, 1, 0, 1, 0]  # 1 = Spam, 0 = Not Spam\n",
        "}\n",
        "\n",
        "df = pd.DataFrame(data)\n",
        "\n",
        "# ✅ Step 4: Preprocessing the data\n",
        "X = df['message']  # Feature: Text messages\n",
        "y = df['label']    # Target: Spam (1) or Not Spam (0)\n",
        "\n",
        "# ✅ Step 5: Convert text data to numerical form using TF-IDF vectorization\n",
        "vectorizer = TfidfVectorizer(stop_words='english')\n",
        "X_tfidf = vectorizer.fit_transform(X)\n",
        "\n",
        "# ✅ Step 6: Train-test split (80-20 split)\n",
        "X_train, X_test, y_train, y_test = train_test_split(X_tfidf, y, test_size=0.2, random_state=42)\n",
        "\n",
        "# ✅ Step 7: Train the Decision Tree model\n",
        "model = DecisionTreeClassifier(random_state=42)\n",
        "model.fit(X_train, y_train)\n",
        "\n",
        "# ✅ Step 8: Predictions\n",
        "y_pred = model.predict(X_test)\n",
        "\n",
        "# ✅ Step 9: Evaluate model performance\n",
        "print(f\"Accuracy: {accuracy_score(y_test, y_pred):.2f}\")\n",
        "print(\"\\nClassification Report:\\n\")\n",
        "print(classification_report(y_test, y_pred))"
      ]
    }
  ]
}