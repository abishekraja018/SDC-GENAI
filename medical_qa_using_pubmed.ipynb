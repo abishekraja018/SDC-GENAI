{
  "nbformat": 4,
  "nbformat_minor": 0,
  "metadata": {
    "colab": {
      "provenance": [],
      "authorship_tag": "ABX9TyPTuU7M9LLAf09TeTT8L3ay",
      "include_colab_link": true
    },
    "kernelspec": {
      "name": "python3",
      "display_name": "Python 3"
    },
    "language_info": {
      "name": "python"
    }
  },
  "cells": [
    {
      "cell_type": "markdown",
      "metadata": {
        "id": "view-in-github",
        "colab_type": "text"
      },
      "source": [
        "<a href=\"https://colab.research.google.com/github/abishekraja018/SDC-GENAI/blob/main/medical_qa_using_pubmed.ipynb\" target=\"_parent\"><img src=\"https://colab.research.google.com/assets/colab-badge.svg\" alt=\"Open In Colab\"/></a>"
      ]
    },
    {
      "cell_type": "code",
      "source": [
        "import os\n",
        "import pymupdf\n",
        "import numpy as np\n",
        "from sentence_transformers import SentenceTransformer\n",
        "from sklearn.metrics.pairwise import cosine_similarity\n",
        "\n",
        "# STEP 1: Extract text from PDF\n",
        "def extract_pdf_text(pdf_path):\n",
        "    with open(pdf_path, \"rb\") as f:\n",
        "        doc = pymupdf.open(f)\n",
        "        text = \"\"\n",
        "        for page in doc:\n",
        "            text += page.get_text()\n",
        "    return text\n",
        "\n",
        "# STEP 2: Split the document into chunks\n",
        "def split_text_into_chunks(text, chunk_size=1000):\n",
        "    chunks = [text[i:i+chunk_size] for i in range(0, len(text), chunk_size)]\n",
        "    return chunks\n",
        "\n",
        "# STEP 3: Embed chunks using Sentence-Transformers\n",
        "def embed_text(chunks):\n",
        "    model = SentenceTransformer('all-MiniLM-L6-v2')  # Local sentence transformer model\n",
        "    embeddings = model.encode(chunks)  # This returns a numpy.ndarray of embeddings\n",
        "    return embeddings\n",
        "\n",
        "# STEP 4: Find the most relevant chunk based on cosine similarity\n",
        "def find_most_relevant_chunk(question, chunks, embeddings):\n",
        "    model = SentenceTransformer('all-MiniLM-L6-v2')\n",
        "    question_embedding = model.encode([question])  # Embed the question\n",
        "    similarities = cosine_similarity(question_embedding, embeddings)  # Compute similarity\n",
        "    most_relevant_chunk_idx = np.argmax(similarities)  # Get the index of the most similar chunk\n",
        "    return chunks[most_relevant_chunk_idx]\n",
        "\n",
        "# STEP 5: Set up a basic QA system\n",
        "def ask_question(chunks, embeddings, question):\n",
        "    relevant_chunk = find_most_relevant_chunk(question, chunks, embeddings)\n",
        "    return relevant_chunk\n",
        "\n",
        "# MAIN EXECUTION\n",
        "def process_pdf(pdf_filename):\n",
        "    text = extract_pdf_text(pdf_filename)\n",
        "    print(\"Text extraction complete\")\n",
        "\n",
        "    # Split the document into chunks\n",
        "    chunks = split_text_into_chunks(text)\n",
        "    print(f\"Document split into {len(chunks)} chunks\")\n",
        "\n",
        "    # Embed the chunks\n",
        "    embeddings = embed_text(chunks)\n",
        "    print(\"Text embedding complete\")\n",
        "\n",
        "    return chunks, embeddings\n",
        "\n",
        "# Testing the process\n",
        "if __name__ == \"__main__\":\n",
        "    pdf_filename = \"parkinsons_study.pdf\"  # Provide your PDF file\n",
        "    chunks, embeddings = process_pdf(pdf_filename)\n",
        "\n",
        "    # Example question\n",
        "    while True:\n",
        "        user_q = input(\"💬 Ask a medical question (or type 'exit'): \")\n",
        "        if user_q.lower() == \"exit\":\n",
        "            break\n",
        "        answer = ask_question(chunks, embeddings, user_q)\n",
        "        print(f\"🤖 Answer: {answer}\")\n"
      ],
      "metadata": {
        "colab": {
          "base_uri": "https://localhost:8080/"
        },
        "id": "4cvPnhRTLHvq",
        "outputId": "a8b995ff-2890-4f7c-c358-d5d5162ec7d4"
      },
      "execution_count": 21,
      "outputs": [
        {
          "name": "stdout",
          "output_type": "stream",
          "text": [
            "Text extraction complete\n",
            "Document split into 2 chunks\n",
            "Text embedding complete\n",
            "💬 Ask a medical question (or type 'exit'): what is the treatment for parkinsons disease?\n",
            "🤖 Answer: Title: The Role of Dopamine in Parkinson's Disease\n",
            "Abstract:\n",
            "Parkinson's disease is a neurodegenerative disorder characterized by motor and non-motor\n",
            "symptoms. The loss of dopamine-producing neurons in the substantia nigra leads to the classic\n",
            "symptoms of tremors, rigidity, and bradykinesia. Understanding the role of dopamine is essential for\n",
            "the development of effective treatments.\n",
            "Introduction:\n",
            "Dopamine is a neurotransmitter that plays a major role in reward, motivation, and motor control. In\n",
            "Parkinson's disease (PD), dopaminergic neurons degenerate, particularly in the substantia nigra\n",
            "pars compacta, leading to dopamine deficiency in the striatum.\n",
            "Treatment:\n",
            "Current treatments include levodopa, dopamine agonists, and MAO-B inhibitors. Levodopa is the\n",
            "most effective treatment but long-term use is associated with motor complications. Deep brain\n",
            "stimulation is used in advanced cases.\n",
            "Conclusion:\n",
            "Dopamine remains a key target in PD research. Ongoing studies aim to develop neuroprotectiv\n",
            "💬 Ask a medical question (or type 'exit'): exit\n"
          ]
        }
      ]
    }
  ]
}